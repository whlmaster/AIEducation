{
  "nbformat": 4,
  "nbformat_minor": 0,
  "metadata": {
    "colab": {
      "provenance": []
    },
    "kernelspec": {
      "name": "python3",
      "display_name": "Python 3"
    },
    "language_info": {
      "name": "python"
    }
  },
  "cells": [
    {
      "cell_type": "markdown",
      "source": [
        "1. Реализуйте декоратор benchmark(func), выводящий время, которое заняло выполнение декорируемой функции\n",
        "2. Реализуйте декоратор logging(func), который выводит вызовы функции\n",
        "3. Реализуйте декоратор counter(func), считающий и выводящий количество вызовов декорируемой функции\n",
        "4. Реализуйте декоратор memo(func), запоминающий результаты исполнения функции func, чьи аргументы *args должны быть хешируемыми. Сравните время выполнения рекурсивной реализации расчета чисел Фибоначчи без декоратора и с ним"
      ],
      "metadata": {
        "id": "uEwfDpT41et6"
      }
    },
    {
      "cell_type": "markdown",
      "source": [
        "## Задание 1"
      ],
      "metadata": {
        "id": "aJC9h5r3MFoR"
      }
    },
    {
      "cell_type": "code",
      "source": [
        "#1\n",
        "import time\n",
        "\n",
        "def benchmark(func):\n",
        "  start_time = time.time()\n",
        "  def time_func(*args, **kwargs):\n",
        "    res = func(*args, **kwargs) #получается функция запускается дважды: первый раз для хронометража, второй для вывода результата?\n",
        "    print(f'Время выполнения функции word_count: {time.time() - start_time}')\n",
        "    return res\n",
        "  return time_func"
      ],
      "metadata": {
        "id": "qpJ41EZy1HXr"
      },
      "execution_count": null,
      "outputs": []
    },
    {
      "cell_type": "markdown",
      "source": [
        "#Задание 2"
      ],
      "metadata": {
        "id": "ngxJVdkhMQe4"
      }
    },
    {
      "cell_type": "code",
      "source": [
        "#2\n",
        "def logging(func):\n",
        "  def show_arg(*args, **kwargs):\n",
        "    print(f'Функция вызвана с параметрами: {args}, {kwargs}')\n",
        "    return func(*args, **kwargs)\n",
        "  return show_arg"
      ],
      "metadata": {
        "id": "rGTdzhzWKdOG"
      },
      "execution_count": null,
      "outputs": []
    },
    {
      "cell_type": "markdown",
      "source": [
        "#Задание 3"
      ],
      "metadata": {
        "id": "Wsl6ry6VMRqz"
      }
    },
    {
      "cell_type": "code",
      "source": [
        "#3\n",
        "counter = 0\n",
        "def counter(func):\n",
        "  counter_container = {}\n",
        "  def wrap(*args, **kwargs):\n",
        "    counter_container[func] = counter_container.get(func, 0) + 1\n",
        "    print(f'Функция была вызвана: {counter_container[func]}')\n",
        "    return func(*args, **kwargs)\n",
        "  return wrap"
      ],
      "metadata": {
        "id": "Sm0Ktq-HQkY3"
      },
      "execution_count": null,
      "outputs": []
    },
    {
      "cell_type": "markdown",
      "source": [
        "#Проверка"
      ],
      "metadata": {
        "id": "JZnzoTf2MVSh"
      }
    },
    {
      "cell_type": "code",
      "source": [
        "import requests\n",
        "import re\n",
        "from random import randint\n",
        "\n",
        "@counter\n",
        "@logging\n",
        "@benchmark\n",
        "def word_count(word, url='https://www.gutenberg.org/files/2638/2638-0.txt'):\n",
        "\n",
        "    # отправляем запрос в библиотеку Gutenberg и забираем текст\n",
        "    raw = requests.get(url).text\n",
        "\n",
        "    # заменяем в тексте все небуквенные символы на пробелы\n",
        "    processed_book = re.sub('[\\W]+' , ' ', raw).lower()\n",
        "\n",
        "    # считаем\n",
        "    cnt = len(re.findall(word.lower(), processed_book))\n",
        "\n",
        "    return f\"Cлово {word} встречается {cnt} раз\"\n",
        "\n",
        "print(word_count('whole'))"
      ],
      "metadata": {
        "colab": {
          "base_uri": "https://localhost:8080/"
        },
        "id": "3bzyF3_22dz4",
        "outputId": "850bee54-b4de-4320-a8de-2b5b183e5e4d"
      },
      "execution_count": null,
      "outputs": [
        {
          "output_type": "stream",
          "name": "stdout",
          "text": [
            "Функция была вызвана: 1\n",
            "Функция вызвана с параметрами: ('whole',), {}\n",
            "Время выполнения функции word_count: 1.918548822402954\n",
            "Cлово whole встречается 176 раз\n"
          ]
        }
      ]
    },
    {
      "cell_type": "code",
      "source": [
        "print(word_count('excellent '))"
      ],
      "metadata": {
        "colab": {
          "base_uri": "https://localhost:8080/"
        },
        "id": "wZ_UZHkKEfpJ",
        "outputId": "050aa4a2-d883-42ac-82e0-48809e233ce1"
      },
      "execution_count": null,
      "outputs": [
        {
          "output_type": "stream",
          "name": "stdout",
          "text": [
            "Функция была вызвана: 2\n",
            "Функция вызвана с параметрами: ('excellent ',), {}\n",
            "Время выполнения функции word_count: 4.033143997192383\n",
            "Cлово excellent  встречается 19 раз\n"
          ]
        }
      ]
    },
    {
      "cell_type": "markdown",
      "source": [
        "#Задание 4"
      ],
      "metadata": {
        "id": "CwAQWjzGMZtp"
      }
    },
    {
      "cell_type": "code",
      "source": [
        "#4\n",
        "def memo(func):\n",
        "  memory_container = {}\n",
        "  def wrap(*args, **kwargs):\n",
        "    if memory_container.get(args + tuple(kwargs.items())) == None:\n",
        "      memory_container [args + tuple(kwargs.items())] = func(*args, **kwargs)\n",
        "\n",
        "    return memory_container [args + tuple(kwargs.items())]\n",
        "  return wrap"
      ],
      "metadata": {
        "id": "lEmkr8tzTe_r"
      },
      "execution_count": null,
      "outputs": []
    },
    {
      "cell_type": "code",
      "source": [
        "#Без хэширования\n",
        "start = time.time()\n",
        "\n",
        "def fibo(n):\n",
        "    if n in (1,2) :\n",
        "        return 1\n",
        "    return fibo(n - 1) + fibo(n - 2)\n",
        "\n",
        "print(fibo(37), f'\\nВремя работы функции без кэширования {time.time() - start}')"
      ],
      "metadata": {
        "colab": {
          "base_uri": "https://localhost:8080/"
        },
        "id": "07587LjZ2Kso",
        "outputId": "2ade7572-c41b-4a3b-c5f7-b70313c3fb2a"
      },
      "execution_count": null,
      "outputs": [
        {
          "output_type": "stream",
          "name": "stdout",
          "text": [
            "24157817 \n",
            "Время работы функции без кэширования 7.49346399307251\n"
          ]
        }
      ]
    },
    {
      "cell_type": "code",
      "source": [
        "#хэширование с помощью самописного декоратора\n",
        "start = time.time()\n",
        "\n",
        "@memo\n",
        "def fibo(n):\n",
        "    if n in (1,2) :\n",
        "        return 1\n",
        "    return fibo(n - 1) + fibo(n - 2)\n",
        "\n",
        "print(fibo(37), f'\\nВремя работы функции с хэшированием {time.time() - start}')"
      ],
      "metadata": {
        "colab": {
          "base_uri": "https://localhost:8080/"
        },
        "id": "ZJH8og5QXpjK",
        "outputId": "f6b01eac-dfd2-4ea1-94fa-0c57d358b363"
      },
      "execution_count": null,
      "outputs": [
        {
          "output_type": "stream",
          "name": "stdout",
          "text": [
            "24157817 \n",
            "Время работы функции с хэшированием 0.0003638267517089844\n"
          ]
        }
      ]
    },
    {
      "cell_type": "code",
      "source": [
        "#хэширование с помощью lru_cache\n",
        "from functools import lru_cache\n",
        "\n",
        "start = time.time()\n",
        "\n",
        "@lru_cache\n",
        "def fib(n):\n",
        "    if n < 2:\n",
        "        return n\n",
        "    return fib(n-2) + fib(n-1)\n",
        "\n",
        "print(fib(37), f'\\nВремя работы функции с помощью хэширования lru_cache {time.time() - start}')"
      ],
      "metadata": {
        "id": "eGZmiXrEtQGB",
        "colab": {
          "base_uri": "https://localhost:8080/"
        },
        "outputId": "ae1a60c1-8e9f-4230-cf81-e578042ae70c"
      },
      "execution_count": null,
      "outputs": [
        {
          "output_type": "stream",
          "name": "stdout",
          "text": [
            "24157817 \n",
            "Время работы функции с помощью хэширования lru_cache 0.00015306472778320312\n"
          ]
        }
      ]
    }
  ]
}